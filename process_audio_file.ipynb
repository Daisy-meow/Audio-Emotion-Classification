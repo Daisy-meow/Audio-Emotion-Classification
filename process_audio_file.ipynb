{
 "cells": [
  {
   "cell_type": "code",
   "execution_count": 5,
   "metadata": {},
   "outputs": [],
   "source": [
    "# Initial setup\n",
    "import os\n",
    "import librosa\n",
    "import numpy as np\n",
    "import pickle\n",
    "from librosa import display\n",
    "import matplotlib.pyplot as plt"
   ]
  },
  {
   "cell_type": "markdown",
   "metadata": {},
   "source": [
    "This notebook demonstrates how to use LibROSA package to load and extract features from an audio file from RAVDESS dataset.\n",
    "\n",
    "#### RAVDESS: https://smartlaboratory.org/ravdess/\n",
    "\n",
    "Livingstone SR, Russo FA (2018) The Ryerson Audio-Visual Database of Emotional Speech and Song (RAVDESS): A dynamic, multimodal set of facial and vocal expressions in North American English. PLoS ONE 13(5): e0196391. https://doi.org/10.1371/journal.pone.0196391.\n",
    "\n",
    "#### LibROSA: https://librosa.github.io/librosa/\n",
    "\n",
    "### 1. Load Audio File\n",
    "\n",
    "Loads and decodes the audio as a time series `y`, represented as a one-dimensional NumPy floating point array. The variable `sr` contains the sampling rate of `y`, that is, the number of samples per second of audio. By default, all audio is mixed to mono and resampled to 22050 Hz at load time. This behavior can be overridden by supplying additional arguments to `librosa.load()`."
   ]
  },
  {
   "cell_type": "code",
   "execution_count": 18,
   "metadata": {},
   "outputs": [
    {
     "data": {
      "image/png": "[encoded data removed]",
      "text/plain": [
       "<Figure size 432x288 with 1 Axes>"
      ]
     },
     "metadata": {
      "needs_background": "light"
     },
     "output_type": "display_data"
    }
   ],
   "source": [
    "# Import one audio file\n",
    "file_name = \"Actor_01/03-01-01-01-01-01-01.wav\"\n",
    "data, sampling_rate = librosa.load(file_name)\n",
    "# Display waveplot\n",
    "librosa.display.waveplot(data, sr=sampling_rate)\n",
    "plt.show()"
   ]
  },
  {
   "cell_type": "markdown",
   "metadata": {},
   "source": [
    "### 2. Feature Extraction\n",
    "\n",
    "#### MFCC (Mel Frequency Cepstral Coefficients): https://en.wikipedia.org/wiki/Mel-frequency_cepstrum\n",
    "\n",
    "In sound processing, the mel-frequency cepstrum (MFC) is a representation of the short-term power spectrum of a sound, based on a linear cosine transform of a log power spectrum on a nonlinear mel scale of frequency.\n",
    "\n",
    "Mel-frequency cepstral coefficients (MFCCs) are coefficients that collectively make up an MFC[1]. They are derived from a type of cepstral representation of the audio clip (a nonlinear \"spectrum-of-a-spectrum\"). The difference between the cepstrum and the mel-frequency cepstrum is that in the MFC, the frequency bands are equally spaced on the mel scale, which approximates the human auditory system's response more closely than the linearly-spaced frequency bands used in the normal cepstrum. This frequency warping can allow for better representation of sound, for example, in audio compression."
   ]
  },
  {
   "cell_type": "code",
   "execution_count": 15,
   "metadata": {},
   "outputs": [],
   "source": [
    "mfccs = np.mean(librosa.feature.mfcc(y=data, sr=sampling_rate, n_mfcc=40).T,axis=0)"
   ]
  },
  {
   "cell_type": "markdown",
   "metadata": {},
   "source": [
    "### 3. Emotion Label\n",
    "#### RAVDESS File Naming Convention\n",
    "\n",
    "Each of the 7356 RAVDESS files has a unique filename. The filename consists of a 7-part numerical identifier (e.g., 02-01-06-01-02-01-12.mp4). These identifiers define the stimulus characteristics:\n",
    "\n",
    "Filename identifiers \n",
    "\n",
    "- Modality (01 = full-AV, 02 = video-only, 03 = audio-only).\n",
    "- Vocal channel (01 = speech, 02 = song).\n",
    "- Emotion (01 = neutral, 02 = calm, 03 = happy, 04 = sad, 05 = angry, 06 = fearful, 07 = disgust, 08 = surprised).\n",
    "- Emotional intensity (01 = normal, 02 = strong). NOTE: There is no strong intensity for the ‘neutral’ emotion.\n",
    "- Statement (01 = “Kids are talking by the door”, 02 = “Dogs are sitting by the door”).\n",
    "- Repetition (01 = 1st repetition, 02 = 2nd repetition).\n",
    "- Actor (01 to 24. Odd numbered actors are male, even numbered actors are female).\n",
    "\n",
    "<font color='red'> Here, I substract 1 from the emotion label in the file name such that: </font>\n",
    "- 0 = Neutral\n",
    "- 1 = calm\n",
    "- 2 = happy\n",
    "- 3 = sad\n",
    "- 4 = angry\n",
    "- 5 = fearful\n",
    "- 6 = disgust\n",
    "- 7 = suprised"
   ]
  },
  {
   "cell_type": "code",
   "execution_count": 48,
   "metadata": {},
   "outputs": [
    {
     "name": "stdout",
     "output_type": "stream",
     "text": [
      "Emotion label: 7\n"
     ]
    }
   ],
   "source": [
    "print(\"Emotion label: {}\".format(int(file_name[7:8]) - 1))"
   ]
  },
  {
   "cell_type": "markdown",
   "metadata": {},
   "source": [
    "### 4. Process All Audio Files"
   ]
  },
  {
   "cell_type": "code",
   "execution_count": 6,
   "metadata": {},
   "outputs": [],
   "source": [
    "# Process all audio files\n",
    "path = \"/Users/wangwanqi/Desktop/Audio_Speech_Actors_01-24\"\n",
    "X = []\n",
    "y = []\n",
    "for subdir, dirs, files in os.walk(path):\n",
    "    for file_name in files:\n",
    "        if \"wav\" in file_name:\n",
    "            data, sampling_rate = librosa.load(os.path.join(subdir, file_name))\n",
    "            mfccs = np.mean(librosa.feature.mfcc(y=data, sr=sampling_rate, n_mfcc=50).T,axis=0)\n",
    "            label = int(file_name[7:8]) - 1\n",
    "            X.append(mfccs)\n",
    "            y.append(label)"
   ]
  },
  {
   "cell_type": "code",
   "execution_count": 7,
   "metadata": {},
   "outputs": [],
   "source": [
    "# Save X and y\n",
    "with open('data/X.pkl','wb') as f:\n",
    "     pickle.dump(X, f)\n",
    "        \n",
    "with open('data/y.pkl','wb') as f:\n",
    "     pickle.dump(y, f)"
   ]
  }
 ],
 "metadata": {
  "kernelspec": {
   "display_name": "Python 3",
   "language": "python",
   "name": "python3"
  },
  "language_info": {
   "codemirror_mode": {
    "name": "ipython",
    "version": 3
   },
   "file_extension": ".py",
   "mimetype": "text/x-python",
   "name": "python",
   "nbconvert_exporter": "python",
   "pygments_lexer": "ipython3",
   "version": "3.6.9"
  }
 },
 "nbformat": 4,
 "nbformat_minor": 4
}
